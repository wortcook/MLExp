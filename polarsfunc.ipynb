{
 "cells": [
  {
   "cell_type": "markdown",
   "metadata": {},
   "source": [
    "Common imports"
   ]
  },
  {
   "cell_type": "code",
   "execution_count": 114,
   "metadata": {},
   "outputs": [
    {
     "name": "stdout",
     "output_type": "stream",
     "text": [
      "env: PGE_DB_NAME=pgequity\n",
      "env: PGE_DB_USER=pgequity\n",
      "env: PGE_DB_PASSWORD=pgequity\n",
      "env: PGE_DB_HOST=localhost\n",
      "env: PGE_DB_PORT=5432\n"
     ]
    }
   ],
   "source": [
    "%env PGE_DB_NAME = pgequity\n",
    "%env PGE_DB_USER = pgequity\n",
    "%env PGE_DB_PASSWORD = pgequity\n",
    "%env PGE_DB_HOST = localhost\n",
    "%env PGE_DB_PORT = 5432"
   ]
  },
  {
   "cell_type": "code",
   "execution_count": 115,
   "metadata": {},
   "outputs": [],
   "source": [
    "import polars as pl\n",
    "import pandas as pd\n",
    "from psycopg_pool import ConnectionPool\n",
    "import os\n",
    "import time\n",
    "import numpy as np\n",
    "import scipy as sp\n",
    "\n",
    "\n",
    "\n",
    "\n",
    "_pgeparams = {\n",
    "    'dbname': os.environ.get(\"PGE_DB_NAME\"),\n",
    "    'user': os.environ.get(\"PGE_DB_USER\"),\n",
    "    'password': os.environ.get(\"PGE_DB_PASSWORD\"),\n",
    "    'host': os.environ.get(\"PGE_DB_HOST\"),\n",
    "    'port': os.environ.get(\"PGE_DB_PORT\"),\n",
    "}\n",
    "\n",
    "PGEPOOL = ConnectionPool(conninfo=f\"postgresql://{_pgeparams['user']}:{_pgeparams['password']}@{_pgeparams['host']}:{_pgeparams['port']}/{_pgeparams['dbname']}\", max_size=5)\n"
   ]
  },
  {
   "cell_type": "markdown",
   "metadata": {},
   "source": [
    "Read data"
   ]
  },
  {
   "cell_type": "code",
   "execution_count": 121,
   "metadata": {},
   "outputs": [
    {
     "name": "stdout",
     "output_type": "stream",
     "text": [
      "shape: (10, 2)\n",
      "┌────────────┬─────────────┐\n",
      "│ index_date ┆ close       │\n",
      "│ ---        ┆ ---         │\n",
      "│ date       ┆ f64         │\n",
      "╞════════════╪═════════════╡\n",
      "│ 2024-10-28 ┆ 5823.52002  │\n",
      "│ 2024-10-29 ┆ 5832.919922 │\n",
      "│ 2024-10-30 ┆ 5813.669922 │\n",
      "│ 2024-10-31 ┆ 5705.450195 │\n",
      "│ 2024-11-01 ┆ 5728.799805 │\n",
      "│ 2024-11-04 ┆ 5712.689941 │\n",
      "│ 2024-11-05 ┆ 5782.759766 │\n",
      "│ 2024-11-06 ┆ 5929.040039 │\n",
      "│ 2024-11-07 ┆ 5973.100098 │\n",
      "│ 2024-11-08 ┆ 5995.540039 │\n",
      "└────────────┴─────────────┘\n",
      "shape: (10, 4)\n",
      "┌────────────┬─────────────┬─────────┬─────────┐\n",
      "│ index_date ┆ close       ┆ up_next ┆ up_prev │\n",
      "│ ---        ┆ ---         ┆ ---     ┆ ---     │\n",
      "│ date       ┆ f64         ┆ bool    ┆ bool    │\n",
      "╞════════════╪═════════════╪═════════╪═════════╡\n",
      "│ 2024-10-28 ┆ 5823.52002  ┆ true    ┆ true    │\n",
      "│ 2024-10-29 ┆ 5832.919922 ┆ false   ┆ true    │\n",
      "│ 2024-10-30 ┆ 5813.669922 ┆ false   ┆ false   │\n",
      "│ 2024-10-31 ┆ 5705.450195 ┆ true    ┆ false   │\n",
      "│ 2024-11-01 ┆ 5728.799805 ┆ false   ┆ true    │\n",
      "│ 2024-11-04 ┆ 5712.689941 ┆ true    ┆ false   │\n",
      "│ 2024-11-05 ┆ 5782.759766 ┆ true    ┆ true    │\n",
      "│ 2024-11-06 ┆ 5929.040039 ┆ true    ┆ true    │\n",
      "│ 2024-11-07 ┆ 5973.100098 ┆ true    ┆ true    │\n",
      "│ 2024-11-08 ┆ 5995.540039 ┆ null    ┆ true    │\n",
      "└────────────┴─────────────┴─────────┴─────────┘\n",
      "shape: (10, 4)\n",
      "┌────────────┬─────────────┬─────────┬─────────────┐\n",
      "│ index_date ┆ close       ┆ up_next ┆ gain_only   │\n",
      "│ ---        ┆ ---         ┆ ---     ┆ ---         │\n",
      "│ date       ┆ f64         ┆ bool    ┆ f64         │\n",
      "╞════════════╪═════════════╪═════════╪═════════════╡\n",
      "│ 2024-10-28 ┆ 5823.52002  ┆ true    ┆ 5823.52002  │\n",
      "│ 2024-10-29 ┆ 5832.919922 ┆ false   ┆ 0.0         │\n",
      "│ 2024-10-30 ┆ 5813.669922 ┆ false   ┆ 0.0         │\n",
      "│ 2024-10-31 ┆ 5705.450195 ┆ true    ┆ 5705.450195 │\n",
      "│ 2024-11-01 ┆ 5728.799805 ┆ false   ┆ 0.0         │\n",
      "│ 2024-11-04 ┆ 5712.689941 ┆ true    ┆ 5712.689941 │\n",
      "│ 2024-11-05 ┆ 5782.759766 ┆ true    ┆ 5782.759766 │\n",
      "│ 2024-11-06 ┆ 5929.040039 ┆ true    ┆ 5929.040039 │\n",
      "│ 2024-11-07 ┆ 5973.100098 ┆ true    ┆ 5973.100098 │\n",
      "│ 2024-11-08 ┆ 5995.540039 ┆ null    ┆ null        │\n",
      "└────────────┴─────────────┴─────────┴─────────────┘\n",
      "shape: (10, 5)\n",
      "┌────────────┬─────────────┬─────────┬───────────┬──────────┐\n",
      "│ index_date ┆ close       ┆ up_next ┆ corr      ┆ corr20   │\n",
      "│ ---        ┆ ---         ┆ ---     ┆ ---       ┆ ---      │\n",
      "│ date       ┆ f64         ┆ bool    ┆ f64       ┆ f64      │\n",
      "╞════════════╪═════════════╪═════════╪═══════════╪══════════╡\n",
      "│ 2024-10-28 ┆ 5823.52002  ┆ true    ┆ -0.6283   ┆ 0.999914 │\n",
      "│ 2024-10-29 ┆ 5832.919922 ┆ false   ┆ -0.57827  ┆ 0.99993  │\n",
      "│ 2024-10-30 ┆ 5813.669922 ┆ false   ┆ -0.457756 ┆ 0.99993  │\n",
      "│ 2024-10-31 ┆ 5705.450195 ┆ true    ┆ -0.623446 ┆ 0.999932 │\n",
      "│ 2024-11-01 ┆ 5728.799805 ┆ false   ┆ -0.332406 ┆ 0.999932 │\n",
      "│ 2024-11-04 ┆ 5712.689941 ┆ true    ┆ -0.379308 ┆ 0.999941 │\n",
      "│ 2024-11-05 ┆ 5782.759766 ┆ true    ┆ -0.266686 ┆ 0.999944 │\n",
      "│ 2024-11-06 ┆ 5929.040039 ┆ true    ┆ -0.020961 ┆ 0.99989  │\n",
      "│ 2024-11-07 ┆ 5973.100098 ┆ true    ┆ 0.151156  ┆ 0.999814 │\n",
      "│ 2024-11-08 ┆ 5995.540039 ┆ null    ┆ null      ┆ null     │\n",
      "└────────────┴─────────────┴─────────┴───────────┴──────────┘\n"
     ]
    }
   ],
   "source": [
    "df = None\n",
    "\n",
    "#warmup\n",
    "with PGEPOOL.connection() as conn:\n",
    "    with conn.cursor() as cursor:\n",
    "        cursor.execute(\"SELECT index_date, close FROM data_points WHERE symbol = 'IDXGSPC' ORDER BY index_date ASC\")\n",
    "        data = cursor.fetchall()\n",
    "        df = pl.DataFrame(data, schema=[(\"index_date\", pl.Date), (\"close\", pl.Float64)], orient=\"row\")\n",
    "\n",
    "dfval = df.select(\n",
    "    pl.col(\"index_date\"),\n",
    "    pl.col(\"close\"),\n",
    "    pl.col(\"close\").diff(-1).lt(0).alias(\"up_next\"),\n",
    "    pl.col(\"close\").diff(1).gt(0).alias(\"up_prev\"),\n",
    ")\n",
    "\n",
    "\n",
    "print(df.tail(10))\n",
    "print(dfval.tail(10))\n",
    "\n",
    "dfvalser = df.to_series(1)\n",
    "dfisup = dfvalser.diff(-1).lt(0)\n",
    "dfgainonly = dfvalser * dfisup\n",
    "\n",
    "dfnew = pl.DataFrame({\n",
    "    \"index_date\": df.to_series(0),\n",
    "    \"close\": dfvalser,\n",
    "    \"up_next\": dfisup,\n",
    "    \"gain_only\": dfgainonly\n",
    "})\n",
    "\n",
    "print(dfnew.tail(10))\n",
    "\n",
    "dfcorr = dfnew.select(\n",
    "    pl.col(\"index_date\"),\n",
    "    pl.col(\"close\"),\n",
    "    pl.col(\"up_next\"),\n",
    "    pl.rolling_corr(a = pl.col(\"close\"), b = pl.col(\"up_next\"), window_size=10).alias(\"corr\"),\n",
    "    pl.rolling_corr(a = pl.col(\"up_next\"), b = pl.col(\"gain_only\"), window_size=20).alias(\"corr20\"),\n",
    ")\n",
    "\n",
    "\n",
    "print(dfcorr.tail(10))\n",
    "\n"
   ]
  }
 ],
 "metadata": {
  "kernelspec": {
   "display_name": "MLExp",
   "language": "python",
   "name": "python3"
  },
  "language_info": {
   "codemirror_mode": {
    "name": "ipython",
    "version": 3
   },
   "file_extension": ".py",
   "mimetype": "text/x-python",
   "name": "python",
   "nbconvert_exporter": "python",
   "pygments_lexer": "ipython3",
   "version": "3.10.15"
  }
 },
 "nbformat": 4,
 "nbformat_minor": 2
}
