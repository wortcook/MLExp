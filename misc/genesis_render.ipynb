{
 "cells": [
  {
   "cell_type": "code",
   "execution_count": 2,
   "metadata": {},
   "outputs": [
    {
     "name": "stderr",
     "output_type": "stream",
     "text": [
      "\u001b[38;5;159m[Genesis] [05:33:15] [INFO] \u001b[38;5;121m╭───────────────────────────────────────────────╮\u001b[0m\u001b[38;5;159m\u001b[0m\n",
      "\u001b[38;5;159m[Genesis] [05:33:15] [INFO] \u001b[38;5;121m│┈┉┈┉┈┉┈┉┈┉┈┉┈┉┈┉┈┉┈\u001b[0m\u001b[38;5;159m \u001b[38;5;121m\u001b[1m\u001b[3mGenesis\u001b[0m\u001b[38;5;159m \u001b[38;5;121m┈┉┈┉┈┉┈┉┈┉┈┉┈┉┈┉┈┉┈│\u001b[0m\u001b[38;5;159m\u001b[0m\n",
      "\u001b[38;5;159m[Genesis] [05:33:15] [INFO] \u001b[38;5;121m╰───────────────────────────────────────────────╯\u001b[0m\u001b[38;5;159m\u001b[0m\n",
      "\u001b[38;5;159m[Genesis] [05:33:15] [INFO] Running on \u001b[38;5;121m\u001b[4m[Apple M1 Ultra]\u001b[0m\u001b[38;5;159m with backend \u001b[38;5;121m\u001b[4mgs.metal\u001b[0m\u001b[38;5;159m. Device memory: \u001b[38;5;121m\u001b[4m128.00\u001b[0m\u001b[38;5;159m GB.\u001b[0m\n",
      "\u001b[38;5;159m[Genesis] [05:33:15] [INFO] 🚀 Genesis initialized. 🔖 version: \u001b[38;5;121m\u001b[4m0.2.0\u001b[0m\u001b[38;5;159m, 🌱 seed: \u001b[38;5;121m\u001b[4mNone\u001b[0m\u001b[38;5;159m, 📏 precision: '\u001b[38;5;121m\u001b[4m32\u001b[0m\u001b[38;5;159m', 🐛 debug: \u001b[38;5;121m\u001b[4mFalse\u001b[0m\u001b[38;5;159m, 🎨 theme: '\u001b[38;5;121m\u001b[4mdark\u001b[0m\u001b[38;5;159m'.\u001b[0m\n"
     ]
    },
    {
     "ename": "NameError",
     "evalue": "name 'args' is not defined",
     "output_type": "error",
     "traceback": [
      "\u001b[0;31m---------------------------------------------------------------------------\u001b[0m",
      "\u001b[0;31mNameError\u001b[0m                                 Traceback (most recent call last)",
      "Cell \u001b[0;32mIn[2], line 67\u001b[0m\n\u001b[1;32m     63\u001b[0m     \u001b[38;5;28;01mif\u001b[39;00m enable_vis:\n\u001b[1;32m     64\u001b[0m         scene\u001b[38;5;241m.\u001b[39mviewer\u001b[38;5;241m.\u001b[39mstop()\n\u001b[0;32m---> 67\u001b[0m \u001b[43mmain\u001b[49m\u001b[43m(\u001b[49m\u001b[43m)\u001b[49m\n",
      "Cell \u001b[0;32mIn[2], line 26\u001b[0m, in \u001b[0;36mmain\u001b[0;34m()\u001b[0m\n\u001b[1;32m     15\u001b[0m gs\u001b[38;5;241m.\u001b[39minit(backend\u001b[38;5;241m=\u001b[39mgs\u001b[38;5;241m.\u001b[39mmetal)\n\u001b[1;32m     17\u001b[0m \u001b[38;5;66;03m########################## create a scene ##########################\u001b[39;00m\n\u001b[1;32m     19\u001b[0m scene \u001b[38;5;241m=\u001b[39m gs\u001b[38;5;241m.\u001b[39mScene(\n\u001b[1;32m     20\u001b[0m     sim_options\u001b[38;5;241m=\u001b[39mgs\u001b[38;5;241m.\u001b[39moptions\u001b[38;5;241m.\u001b[39mSimOptions(),\n\u001b[1;32m     21\u001b[0m     viewer_options\u001b[38;5;241m=\u001b[39mgs\u001b[38;5;241m.\u001b[39moptions\u001b[38;5;241m.\u001b[39mViewerOptions(\n\u001b[1;32m     22\u001b[0m         camera_pos\u001b[38;5;241m=\u001b[39m(\u001b[38;5;241m3.5\u001b[39m, \u001b[38;5;241m0.0\u001b[39m, \u001b[38;5;241m2.5\u001b[39m),\n\u001b[1;32m     23\u001b[0m         camera_lookat\u001b[38;5;241m=\u001b[39m(\u001b[38;5;241m0.0\u001b[39m, \u001b[38;5;241m0.0\u001b[39m, \u001b[38;5;241m0.5\u001b[39m),\n\u001b[1;32m     24\u001b[0m         camera_fov\u001b[38;5;241m=\u001b[39m\u001b[38;5;241m40\u001b[39m,\n\u001b[1;32m     25\u001b[0m     ),\n\u001b[0;32m---> 26\u001b[0m     show_viewer\u001b[38;5;241m=\u001b[39m\u001b[43margs\u001b[49m\u001b[38;5;241m.\u001b[39mvis,\n\u001b[1;32m     27\u001b[0m     rigid_options\u001b[38;5;241m=\u001b[39mgs\u001b[38;5;241m.\u001b[39moptions\u001b[38;5;241m.\u001b[39mRigidOptions(\n\u001b[1;32m     28\u001b[0m         dt\u001b[38;5;241m=\u001b[39m\u001b[38;5;241m0.01\u001b[39m,\n\u001b[1;32m     29\u001b[0m         gravity\u001b[38;5;241m=\u001b[39m(\u001b[38;5;241m0.0\u001b[39m, \u001b[38;5;241m0.0\u001b[39m, \u001b[38;5;241m-\u001b[39m\u001b[38;5;241m10.0\u001b[39m),\n\u001b[1;32m     30\u001b[0m     ),\n\u001b[1;32m     31\u001b[0m )\n\u001b[1;32m     33\u001b[0m \u001b[38;5;66;03m########################## entities ##########################\u001b[39;00m\n\u001b[1;32m     34\u001b[0m plane \u001b[38;5;241m=\u001b[39m scene\u001b[38;5;241m.\u001b[39madd_entity(gs\u001b[38;5;241m.\u001b[39mmorphs\u001b[38;5;241m.\u001b[39mPlane())\n",
      "\u001b[0;31mNameError\u001b[0m: name 'args' is not defined"
     ]
    }
   ],
   "source": [
    "import argparse\n",
    "\n",
    "import torch\n",
    "\n",
    "import genesis as gs\n",
    "\n",
    "\n",
    "def main():\n",
    "\n",
    "    parser = argparse.ArgumentParser()\n",
    "    parser.add_argument(\"-v\", \"--vis\", action=\"store_true\", default=False)\n",
    "    args = parser.parse_args()\n",
    "\n",
    "    ########################## init ##########################\n",
    "    gs.init(backend=gs.metal)\n",
    "\n",
    "    ########################## create a scene ##########################\n",
    "\n",
    "    scene = gs.Scene(\n",
    "        sim_options=gs.options.SimOptions(),\n",
    "        viewer_options=gs.options.ViewerOptions(\n",
    "            camera_pos=(3.5, 0.0, 2.5),\n",
    "            camera_lookat=(0.0, 0.0, 0.5),\n",
    "            camera_fov=40,\n",
    "        ),\n",
    "        show_viewer=args.vis,\n",
    "        rigid_options=gs.options.RigidOptions(\n",
    "            dt=0.01,\n",
    "            gravity=(0.0, 0.0, -10.0),\n",
    "        ),\n",
    "    )\n",
    "\n",
    "    ########################## entities ##########################\n",
    "    plane = scene.add_entity(gs.morphs.Plane())\n",
    "    r0 = scene.add_entity(\n",
    "        gs.morphs.MJCF(file=\"xml/franka_emika_panda/panda.xml\"),\n",
    "    )\n",
    "\n",
    "    ########################## build ##########################\n",
    "    scene.build()\n",
    "\n",
    "    gs.tools.run_in_another_thread(fn=run_sim, args=(scene, args.vis))\n",
    "    if args.vis:\n",
    "        scene.viewer.start()\n",
    "\n",
    "\n",
    "def run_sim(scene, enable_vis):\n",
    "    from time import time\n",
    "\n",
    "    t_prev = time()\n",
    "    i = 0\n",
    "    while True:\n",
    "        i += 1\n",
    "\n",
    "        scene.step()\n",
    "\n",
    "        t_now = time()\n",
    "        print(1 / (t_now - t_prev), \"FPS\")\n",
    "        t_prev = t_now\n",
    "        if i > 200:\n",
    "            break\n",
    "\n",
    "    if enable_vis:\n",
    "        scene.viewer.stop()\n",
    "\n",
    "\n",
    "main()"
   ]
  }
 ],
 "metadata": {
  "kernelspec": {
   "display_name": "genesis",
   "language": "python",
   "name": "python3"
  },
  "language_info": {
   "codemirror_mode": {
    "name": "ipython",
    "version": 3
   },
   "file_extension": ".py",
   "mimetype": "text/x-python",
   "name": "python",
   "nbconvert_exporter": "python",
   "pygments_lexer": "ipython3",
   "version": "3.11.11"
  }
 },
 "nbformat": 4,
 "nbformat_minor": 2
}
